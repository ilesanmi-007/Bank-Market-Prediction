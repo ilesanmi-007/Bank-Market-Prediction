{
 "cells": [
  {
   "cell_type": "code",
   "execution_count": 90,
   "id": "0dcc3443",
   "metadata": {},
   "outputs": [],
   "source": [
    "import pandas as pd\n",
    "import numpy as np\n",
    "import matplotlib.pyplot as plt\n",
    "import seaborn as sns\n",
    "from sklearn.model_selection import train_test_split\n",
    "\n",
    "url = r'C:\\Users\\ilesanmi\\Desktop\\ipny\\AI LEAD\\PRojects\\Bank- ALL\\Bank_Subscription_Project\\bank_data.csv'\n",
    "bank = pd.read_csv(url)"
   ]
  },
  {
   "cell_type": "code",
   "execution_count": 34,
   "id": "b5f6f479",
   "metadata": {},
   "outputs": [
    {
     "data": {
      "text/plain": [
       "(41188, 21)"
      ]
     },
     "execution_count": 34,
     "metadata": {},
     "output_type": "execute_result"
    }
   ],
   "source": [
    "bank.shape"
   ]
  },
  {
   "cell_type": "code",
   "execution_count": 35,
   "id": "a6aef4f3",
   "metadata": {
    "scrolled": true
   },
   "outputs": [
    {
     "data": {
      "text/html": [
       "<div>\n",
       "<style scoped>\n",
       "    .dataframe tbody tr th:only-of-type {\n",
       "        vertical-align: middle;\n",
       "    }\n",
       "\n",
       "    .dataframe tbody tr th {\n",
       "        vertical-align: top;\n",
       "    }\n",
       "\n",
       "    .dataframe thead th {\n",
       "        text-align: right;\n",
       "    }\n",
       "</style>\n",
       "<table border=\"1\" class=\"dataframe\">\n",
       "  <thead>\n",
       "    <tr style=\"text-align: right;\">\n",
       "      <th></th>\n",
       "      <th>age</th>\n",
       "      <th>job</th>\n",
       "      <th>marital</th>\n",
       "      <th>education</th>\n",
       "      <th>default</th>\n",
       "      <th>housing</th>\n",
       "      <th>loan</th>\n",
       "      <th>contact</th>\n",
       "      <th>month</th>\n",
       "      <th>day_of_week</th>\n",
       "      <th>...</th>\n",
       "      <th>campaign</th>\n",
       "      <th>pdays</th>\n",
       "      <th>previous</th>\n",
       "      <th>poutcome</th>\n",
       "      <th>emp.var.rate</th>\n",
       "      <th>cons.price.idx</th>\n",
       "      <th>cons.conf.idx</th>\n",
       "      <th>euribor3m</th>\n",
       "      <th>nr.employed</th>\n",
       "      <th>y</th>\n",
       "    </tr>\n",
       "  </thead>\n",
       "  <tbody>\n",
       "    <tr>\n",
       "      <th>0</th>\n",
       "      <td>56</td>\n",
       "      <td>housemaid</td>\n",
       "      <td>married</td>\n",
       "      <td>basic.4y</td>\n",
       "      <td>no</td>\n",
       "      <td>no</td>\n",
       "      <td>no</td>\n",
       "      <td>telephone</td>\n",
       "      <td>may</td>\n",
       "      <td>mon</td>\n",
       "      <td>...</td>\n",
       "      <td>1</td>\n",
       "      <td>999</td>\n",
       "      <td>0</td>\n",
       "      <td>nonexistent</td>\n",
       "      <td>1.1</td>\n",
       "      <td>93.994</td>\n",
       "      <td>-36.4</td>\n",
       "      <td>4.857</td>\n",
       "      <td>5191.0</td>\n",
       "      <td>no</td>\n",
       "    </tr>\n",
       "    <tr>\n",
       "      <th>1</th>\n",
       "      <td>57</td>\n",
       "      <td>services</td>\n",
       "      <td>married</td>\n",
       "      <td>high.school</td>\n",
       "      <td>NaN</td>\n",
       "      <td>no</td>\n",
       "      <td>no</td>\n",
       "      <td>telephone</td>\n",
       "      <td>may</td>\n",
       "      <td>mon</td>\n",
       "      <td>...</td>\n",
       "      <td>1</td>\n",
       "      <td>999</td>\n",
       "      <td>0</td>\n",
       "      <td>nonexistent</td>\n",
       "      <td>1.1</td>\n",
       "      <td>93.994</td>\n",
       "      <td>-36.4</td>\n",
       "      <td>4.857</td>\n",
       "      <td>5191.0</td>\n",
       "      <td>no</td>\n",
       "    </tr>\n",
       "    <tr>\n",
       "      <th>2</th>\n",
       "      <td>37</td>\n",
       "      <td>services</td>\n",
       "      <td>married</td>\n",
       "      <td>high.school</td>\n",
       "      <td>no</td>\n",
       "      <td>yes</td>\n",
       "      <td>no</td>\n",
       "      <td>telephone</td>\n",
       "      <td>may</td>\n",
       "      <td>mon</td>\n",
       "      <td>...</td>\n",
       "      <td>1</td>\n",
       "      <td>999</td>\n",
       "      <td>0</td>\n",
       "      <td>nonexistent</td>\n",
       "      <td>1.1</td>\n",
       "      <td>93.994</td>\n",
       "      <td>-36.4</td>\n",
       "      <td>4.857</td>\n",
       "      <td>5191.0</td>\n",
       "      <td>no</td>\n",
       "    </tr>\n",
       "    <tr>\n",
       "      <th>3</th>\n",
       "      <td>40</td>\n",
       "      <td>admin.</td>\n",
       "      <td>married</td>\n",
       "      <td>basic.6y</td>\n",
       "      <td>no</td>\n",
       "      <td>no</td>\n",
       "      <td>no</td>\n",
       "      <td>telephone</td>\n",
       "      <td>may</td>\n",
       "      <td>mon</td>\n",
       "      <td>...</td>\n",
       "      <td>1</td>\n",
       "      <td>999</td>\n",
       "      <td>0</td>\n",
       "      <td>nonexistent</td>\n",
       "      <td>1.1</td>\n",
       "      <td>93.994</td>\n",
       "      <td>-36.4</td>\n",
       "      <td>4.857</td>\n",
       "      <td>5191.0</td>\n",
       "      <td>no</td>\n",
       "    </tr>\n",
       "    <tr>\n",
       "      <th>4</th>\n",
       "      <td>56</td>\n",
       "      <td>services</td>\n",
       "      <td>married</td>\n",
       "      <td>high.school</td>\n",
       "      <td>no</td>\n",
       "      <td>no</td>\n",
       "      <td>yes</td>\n",
       "      <td>telephone</td>\n",
       "      <td>may</td>\n",
       "      <td>mon</td>\n",
       "      <td>...</td>\n",
       "      <td>1</td>\n",
       "      <td>999</td>\n",
       "      <td>0</td>\n",
       "      <td>nonexistent</td>\n",
       "      <td>1.1</td>\n",
       "      <td>93.994</td>\n",
       "      <td>-36.4</td>\n",
       "      <td>4.857</td>\n",
       "      <td>5191.0</td>\n",
       "      <td>no</td>\n",
       "    </tr>\n",
       "  </tbody>\n",
       "</table>\n",
       "<p>5 rows × 21 columns</p>\n",
       "</div>"
      ],
      "text/plain": [
       "   age        job  marital    education default housing loan    contact month  \\\n",
       "0   56  housemaid  married     basic.4y      no      no   no  telephone   may   \n",
       "1   57   services  married  high.school     NaN      no   no  telephone   may   \n",
       "2   37   services  married  high.school      no     yes   no  telephone   may   \n",
       "3   40     admin.  married     basic.6y      no      no   no  telephone   may   \n",
       "4   56   services  married  high.school      no      no  yes  telephone   may   \n",
       "\n",
       "  day_of_week  ...  campaign  pdays  previous     poutcome emp.var.rate  \\\n",
       "0         mon  ...         1    999         0  nonexistent          1.1   \n",
       "1         mon  ...         1    999         0  nonexistent          1.1   \n",
       "2         mon  ...         1    999         0  nonexistent          1.1   \n",
       "3         mon  ...         1    999         0  nonexistent          1.1   \n",
       "4         mon  ...         1    999         0  nonexistent          1.1   \n",
       "\n",
       "   cons.price.idx  cons.conf.idx  euribor3m  nr.employed   y  \n",
       "0          93.994          -36.4      4.857       5191.0  no  \n",
       "1          93.994          -36.4      4.857       5191.0  no  \n",
       "2          93.994          -36.4      4.857       5191.0  no  \n",
       "3          93.994          -36.4      4.857       5191.0  no  \n",
       "4          93.994          -36.4      4.857       5191.0  no  \n",
       "\n",
       "[5 rows x 21 columns]"
      ]
     },
     "execution_count": 35,
     "metadata": {},
     "output_type": "execute_result"
    }
   ],
   "source": [
    "bank.head()"
   ]
  },
  {
   "cell_type": "code",
   "execution_count": 36,
   "id": "4a42e8c7",
   "metadata": {},
   "outputs": [
    {
     "data": {
      "text/plain": [
       "Index(['age', 'job', 'marital', 'education', 'default', 'housing', 'loan',\n",
       "       'contact', 'month', 'day_of_week', 'duration', 'campaign', 'pdays',\n",
       "       'previous', 'poutcome', 'emp.var.rate', 'cons.price.idx',\n",
       "       'cons.conf.idx', 'euribor3m', 'nr.employed', 'y'],\n",
       "      dtype='object')"
      ]
     },
     "execution_count": 36,
     "metadata": {},
     "output_type": "execute_result"
    }
   ],
   "source": [
    "bank.columns"
   ]
  },
  {
   "cell_type": "code",
   "execution_count": null,
   "id": "1db351cc",
   "metadata": {},
   "outputs": [],
   "source": []
  },
  {
   "cell_type": "code",
   "execution_count": 106,
   "id": "150f530a",
   "metadata": {},
   "outputs": [
    {
     "name": "stdout",
     "output_type": "stream",
     "text": [
      "<class 'pandas.core.frame.DataFrame'>\n",
      "RangeIndex: 41188 entries, 0 to 41187\n",
      "Data columns (total 21 columns):\n",
      " #   Column          Non-Null Count  Dtype  \n",
      "---  ------          --------------  -----  \n",
      " 0   age             41188 non-null  int64  \n",
      " 1   job             40858 non-null  object \n",
      " 2   marital         41108 non-null  object \n",
      " 3   education       39457 non-null  object \n",
      " 4   default         32591 non-null  object \n",
      " 5   housing         40198 non-null  object \n",
      " 6   loan            40198 non-null  object \n",
      " 7   contact         41188 non-null  object \n",
      " 8   month           41188 non-null  object \n",
      " 9   day_of_week     41188 non-null  object \n",
      " 10  duration        41188 non-null  int64  \n",
      " 11  campaign        41188 non-null  int64  \n",
      " 12  pdays           41188 non-null  int64  \n",
      " 13  previous        41188 non-null  int64  \n",
      " 14  poutcome        41188 non-null  object \n",
      " 15  emp.var.rate    41188 non-null  float64\n",
      " 16  cons.price.idx  41188 non-null  float64\n",
      " 17  cons.conf.idx   41188 non-null  float64\n",
      " 18  euribor3m       41188 non-null  float64\n",
      " 19  nr.employed     41188 non-null  float64\n",
      " 20  y               41188 non-null  object \n",
      "dtypes: float64(5), int64(5), object(11)\n",
      "memory usage: 6.6+ MB\n"
     ]
    }
   ],
   "source": [
    "bank.info()"
   ]
  },
  {
   "cell_type": "code",
   "execution_count": null,
   "id": "55515993",
   "metadata": {},
   "outputs": [],
   "source": []
  },
  {
   "cell_type": "code",
   "execution_count": null,
   "id": "ed0285bb",
   "metadata": {},
   "outputs": [],
   "source": []
  },
  {
   "cell_type": "markdown",
   "id": "351f45b4",
   "metadata": {},
   "source": [
    "# DEALING WITH MISSING VALUES"
   ]
  },
  {
   "cell_type": "code",
   "execution_count": 37,
   "id": "d11e6dcb",
   "metadata": {
    "scrolled": true
   },
   "outputs": [
    {
     "data": {
      "text/plain": [
       "age                  0\n",
       "job                330\n",
       "marital             80\n",
       "education         1731\n",
       "default           8597\n",
       "housing            990\n",
       "loan               990\n",
       "contact              0\n",
       "month                0\n",
       "day_of_week          0\n",
       "duration             0\n",
       "campaign             0\n",
       "pdays                0\n",
       "previous             0\n",
       "poutcome             0\n",
       "emp.var.rate         0\n",
       "cons.price.idx       0\n",
       "cons.conf.idx        0\n",
       "euribor3m            0\n",
       "nr.employed          0\n",
       "y                    0\n",
       "dtype: int64"
      ]
     },
     "execution_count": 37,
     "metadata": {},
     "output_type": "execute_result"
    }
   ],
   "source": [
    "#check for missing values\n",
    "\n",
    "bank.isna().sum()"
   ]
  },
  {
   "cell_type": "code",
   "execution_count": 38,
   "id": "90e675a3",
   "metadata": {},
   "outputs": [],
   "source": [
    "# #the missing columns are:\n",
    "#job                330\n",
    "# marital             80\n",
    "# education         1731\n",
    "# default           8597\n",
    "# housing            990\n",
    "# loan               990"
   ]
  },
  {
   "cell_type": "code",
   "execution_count": 39,
   "id": "4e440462",
   "metadata": {},
   "outputs": [
    {
     "data": {
      "text/plain": [
       "0    admin.\n",
       "dtype: object"
      ]
     },
     "execution_count": 39,
     "metadata": {},
     "output_type": "execute_result"
    }
   ],
   "source": [
    "#checking for jobs\n",
    "bank['job'].value_counts()\n",
    "#bank['job'].unique()\n",
    "bank['job'].mode()\n",
    "\n",
    "#the highest job is admin"
   ]
  },
  {
   "cell_type": "code",
   "execution_count": 40,
   "id": "83c7a4fa",
   "metadata": {},
   "outputs": [
    {
     "data": {
      "text/plain": [
       "0    married\n",
       "dtype: object"
      ]
     },
     "execution_count": 40,
     "metadata": {},
     "output_type": "execute_result"
    }
   ],
   "source": [
    "#checking for marital\n",
    "bank['marital'].value_counts()\n",
    "bank['marital'].mode()\n",
    "\n",
    "#bank['age'].mode() ==31\n",
    "\n",
    "#judging by the age and the mode of marriage,\n",
    "#i feel it's safe to fix the missing data with married"
   ]
  },
  {
   "cell_type": "code",
   "execution_count": 41,
   "id": "80bbac0a",
   "metadata": {},
   "outputs": [
    {
     "data": {
      "text/plain": [
       "university.degree      12168\n",
       "high.school             9515\n",
       "basic.9y                6045\n",
       "professional.course     5243\n",
       "basic.4y                4176\n",
       "basic.6y                2292\n",
       "illiterate                18\n",
       "Name: education, dtype: int64"
      ]
     },
     "execution_count": 41,
     "metadata": {},
     "output_type": "execute_result"
    }
   ],
   "source": [
    "#checking for education\n",
    "bank['education'].value_counts()\n",
    "#bank['education'].mode()\n",
    "\n",
    "#the university.degree has more frequencies"
   ]
  },
  {
   "cell_type": "code",
   "execution_count": 42,
   "id": "807ac5fd",
   "metadata": {},
   "outputs": [
    {
     "data": {
      "text/plain": [
       "no     32588\n",
       "yes        3\n",
       "Name: default, dtype: int64"
      ]
     },
     "execution_count": 42,
     "metadata": {},
     "output_type": "execute_result"
    }
   ],
   "source": [
    "#checking for defaults\n",
    "bank['default'].value_counts()\n",
    "#bank['default'].mode()\n",
    "\n",
    "#its a moore of NOOO"
   ]
  },
  {
   "cell_type": "code",
   "execution_count": 43,
   "id": "cfa58a5b",
   "metadata": {},
   "outputs": [
    {
     "data": {
      "text/plain": [
       "yes    21576\n",
       "no     18622\n",
       "Name: housing, dtype: int64"
      ]
     },
     "execution_count": 43,
     "metadata": {},
     "output_type": "execute_result"
    }
   ],
   "source": [
    "#checking for housing\n",
    "bank['housing'].value_counts()\n",
    "#bank['housing'].mode()\n",
    "\n",
    "#safe to yes"
   ]
  },
  {
   "cell_type": "code",
   "execution_count": 44,
   "id": "6d8b3a31",
   "metadata": {},
   "outputs": [
    {
     "data": {
      "text/plain": [
       "no     33950\n",
       "yes     6248\n",
       "Name: loan, dtype: int64"
      ]
     },
     "execution_count": 44,
     "metadata": {},
     "output_type": "execute_result"
    }
   ],
   "source": [
    "#checking for loan\n",
    "\n",
    "bank['loan'].value_counts()\n",
    "#bank['loan'].mode()\n",
    "\n",
    "#its a NOO"
   ]
  },
  {
   "cell_type": "code",
   "execution_count": null,
   "id": "cb06ae23",
   "metadata": {},
   "outputs": [],
   "source": []
  },
  {
   "cell_type": "code",
   "execution_count": null,
   "id": "e49c3e86",
   "metadata": {},
   "outputs": [],
   "source": []
  },
  {
   "cell_type": "code",
   "execution_count": 45,
   "id": "7a15c0d3",
   "metadata": {},
   "outputs": [],
   "source": [
    "bank.fillna(value = {'loan':list(bank['loan'].mode())[0], 'housing': list(bank['housing'].mode())[0], 'default': list(bank['default'].mode())[0], 'education':list(bank['education'].mode())[0], 'job': list(bank['job'].mode())[0], 'marital': list(bank['marital'].mode())[0]}, inplace = True)"
   ]
  },
  {
   "cell_type": "markdown",
   "id": "c7bf680d",
   "metadata": {},
   "source": []
  },
  {
   "cell_type": "code",
   "execution_count": 46,
   "id": "ff59939a",
   "metadata": {},
   "outputs": [],
   "source": [
    "datasetA = bank"
   ]
  },
  {
   "cell_type": "code",
   "execution_count": 47,
   "id": "cdffd4c6",
   "metadata": {},
   "outputs": [
    {
     "data": {
      "text/plain": [
       "age               0\n",
       "job               0\n",
       "marital           0\n",
       "education         0\n",
       "default           0\n",
       "housing           0\n",
       "loan              0\n",
       "contact           0\n",
       "month             0\n",
       "day_of_week       0\n",
       "duration          0\n",
       "campaign          0\n",
       "pdays             0\n",
       "previous          0\n",
       "poutcome          0\n",
       "emp.var.rate      0\n",
       "cons.price.idx    0\n",
       "cons.conf.idx     0\n",
       "euribor3m         0\n",
       "nr.employed       0\n",
       "y                 0\n",
       "dtype: int64"
      ]
     },
     "execution_count": 47,
     "metadata": {},
     "output_type": "execute_result"
    }
   ],
   "source": [
    "datasetA.isna().sum()"
   ]
  },
  {
   "cell_type": "code",
   "execution_count": 48,
   "id": "e721488c",
   "metadata": {},
   "outputs": [
    {
     "data": {
      "text/html": [
       "<div>\n",
       "<style scoped>\n",
       "    .dataframe tbody tr th:only-of-type {\n",
       "        vertical-align: middle;\n",
       "    }\n",
       "\n",
       "    .dataframe tbody tr th {\n",
       "        vertical-align: top;\n",
       "    }\n",
       "\n",
       "    .dataframe thead th {\n",
       "        text-align: right;\n",
       "    }\n",
       "</style>\n",
       "<table border=\"1\" class=\"dataframe\">\n",
       "  <thead>\n",
       "    <tr style=\"text-align: right;\">\n",
       "      <th></th>\n",
       "      <th>age</th>\n",
       "      <th>job</th>\n",
       "      <th>marital</th>\n",
       "      <th>education</th>\n",
       "      <th>default</th>\n",
       "      <th>housing</th>\n",
       "      <th>loan</th>\n",
       "      <th>contact</th>\n",
       "      <th>month</th>\n",
       "      <th>day_of_week</th>\n",
       "      <th>...</th>\n",
       "      <th>campaign</th>\n",
       "      <th>pdays</th>\n",
       "      <th>previous</th>\n",
       "      <th>poutcome</th>\n",
       "      <th>emp.var.rate</th>\n",
       "      <th>cons.price.idx</th>\n",
       "      <th>cons.conf.idx</th>\n",
       "      <th>euribor3m</th>\n",
       "      <th>nr.employed</th>\n",
       "      <th>y</th>\n",
       "    </tr>\n",
       "  </thead>\n",
       "  <tbody>\n",
       "    <tr>\n",
       "      <th>0</th>\n",
       "      <td>56</td>\n",
       "      <td>housemaid</td>\n",
       "      <td>married</td>\n",
       "      <td>basic.4y</td>\n",
       "      <td>no</td>\n",
       "      <td>no</td>\n",
       "      <td>no</td>\n",
       "      <td>telephone</td>\n",
       "      <td>may</td>\n",
       "      <td>mon</td>\n",
       "      <td>...</td>\n",
       "      <td>1</td>\n",
       "      <td>999</td>\n",
       "      <td>0</td>\n",
       "      <td>nonexistent</td>\n",
       "      <td>1.1</td>\n",
       "      <td>93.994</td>\n",
       "      <td>-36.4</td>\n",
       "      <td>4.857</td>\n",
       "      <td>5191.0</td>\n",
       "      <td>no</td>\n",
       "    </tr>\n",
       "    <tr>\n",
       "      <th>1</th>\n",
       "      <td>57</td>\n",
       "      <td>services</td>\n",
       "      <td>married</td>\n",
       "      <td>high.school</td>\n",
       "      <td>no</td>\n",
       "      <td>no</td>\n",
       "      <td>no</td>\n",
       "      <td>telephone</td>\n",
       "      <td>may</td>\n",
       "      <td>mon</td>\n",
       "      <td>...</td>\n",
       "      <td>1</td>\n",
       "      <td>999</td>\n",
       "      <td>0</td>\n",
       "      <td>nonexistent</td>\n",
       "      <td>1.1</td>\n",
       "      <td>93.994</td>\n",
       "      <td>-36.4</td>\n",
       "      <td>4.857</td>\n",
       "      <td>5191.0</td>\n",
       "      <td>no</td>\n",
       "    </tr>\n",
       "    <tr>\n",
       "      <th>2</th>\n",
       "      <td>37</td>\n",
       "      <td>services</td>\n",
       "      <td>married</td>\n",
       "      <td>high.school</td>\n",
       "      <td>no</td>\n",
       "      <td>yes</td>\n",
       "      <td>no</td>\n",
       "      <td>telephone</td>\n",
       "      <td>may</td>\n",
       "      <td>mon</td>\n",
       "      <td>...</td>\n",
       "      <td>1</td>\n",
       "      <td>999</td>\n",
       "      <td>0</td>\n",
       "      <td>nonexistent</td>\n",
       "      <td>1.1</td>\n",
       "      <td>93.994</td>\n",
       "      <td>-36.4</td>\n",
       "      <td>4.857</td>\n",
       "      <td>5191.0</td>\n",
       "      <td>no</td>\n",
       "    </tr>\n",
       "    <tr>\n",
       "      <th>3</th>\n",
       "      <td>40</td>\n",
       "      <td>admin.</td>\n",
       "      <td>married</td>\n",
       "      <td>basic.6y</td>\n",
       "      <td>no</td>\n",
       "      <td>no</td>\n",
       "      <td>no</td>\n",
       "      <td>telephone</td>\n",
       "      <td>may</td>\n",
       "      <td>mon</td>\n",
       "      <td>...</td>\n",
       "      <td>1</td>\n",
       "      <td>999</td>\n",
       "      <td>0</td>\n",
       "      <td>nonexistent</td>\n",
       "      <td>1.1</td>\n",
       "      <td>93.994</td>\n",
       "      <td>-36.4</td>\n",
       "      <td>4.857</td>\n",
       "      <td>5191.0</td>\n",
       "      <td>no</td>\n",
       "    </tr>\n",
       "    <tr>\n",
       "      <th>4</th>\n",
       "      <td>56</td>\n",
       "      <td>services</td>\n",
       "      <td>married</td>\n",
       "      <td>high.school</td>\n",
       "      <td>no</td>\n",
       "      <td>no</td>\n",
       "      <td>yes</td>\n",
       "      <td>telephone</td>\n",
       "      <td>may</td>\n",
       "      <td>mon</td>\n",
       "      <td>...</td>\n",
       "      <td>1</td>\n",
       "      <td>999</td>\n",
       "      <td>0</td>\n",
       "      <td>nonexistent</td>\n",
       "      <td>1.1</td>\n",
       "      <td>93.994</td>\n",
       "      <td>-36.4</td>\n",
       "      <td>4.857</td>\n",
       "      <td>5191.0</td>\n",
       "      <td>no</td>\n",
       "    </tr>\n",
       "  </tbody>\n",
       "</table>\n",
       "<p>5 rows × 21 columns</p>\n",
       "</div>"
      ],
      "text/plain": [
       "   age        job  marital    education default housing loan    contact month  \\\n",
       "0   56  housemaid  married     basic.4y      no      no   no  telephone   may   \n",
       "1   57   services  married  high.school      no      no   no  telephone   may   \n",
       "2   37   services  married  high.school      no     yes   no  telephone   may   \n",
       "3   40     admin.  married     basic.6y      no      no   no  telephone   may   \n",
       "4   56   services  married  high.school      no      no  yes  telephone   may   \n",
       "\n",
       "  day_of_week  ...  campaign  pdays  previous     poutcome emp.var.rate  \\\n",
       "0         mon  ...         1    999         0  nonexistent          1.1   \n",
       "1         mon  ...         1    999         0  nonexistent          1.1   \n",
       "2         mon  ...         1    999         0  nonexistent          1.1   \n",
       "3         mon  ...         1    999         0  nonexistent          1.1   \n",
       "4         mon  ...         1    999         0  nonexistent          1.1   \n",
       "\n",
       "   cons.price.idx  cons.conf.idx  euribor3m  nr.employed   y  \n",
       "0          93.994          -36.4      4.857       5191.0  no  \n",
       "1          93.994          -36.4      4.857       5191.0  no  \n",
       "2          93.994          -36.4      4.857       5191.0  no  \n",
       "3          93.994          -36.4      4.857       5191.0  no  \n",
       "4          93.994          -36.4      4.857       5191.0  no  \n",
       "\n",
       "[5 rows x 21 columns]"
      ]
     },
     "execution_count": 48,
     "metadata": {},
     "output_type": "execute_result"
    }
   ],
   "source": [
    "d_trial = datasetA #backup\n",
    "d_trial.head()"
   ]
  },
  {
   "cell_type": "code",
   "execution_count": null,
   "id": "3c64ad52",
   "metadata": {},
   "outputs": [],
   "source": []
  },
  {
   "cell_type": "code",
   "execution_count": null,
   "id": "926c7582",
   "metadata": {},
   "outputs": [],
   "source": []
  },
  {
   "cell_type": "markdown",
   "id": "fac08311",
   "metadata": {},
   "source": [
    "# VISUALISATION\n",
    "\n",
    "### some basic things to see"
   ]
  },
  {
   "cell_type": "code",
   "execution_count": 92,
   "id": "f46fb9a1",
   "metadata": {},
   "outputs": [
    {
     "data": {
      "image/png": "[encoded data removed]",
      "text/plain": [
       "<Figure size 413.25x360 with 1 Axes>"
      ]
     },
     "metadata": {
      "needs_background": "light"
     },
     "output_type": "display_data"
    }
   ],
   "source": [
    "sns.catplot(x=\"job\", data=d_trial,hue=\"housing\", kind=\"count\", legend = 'best' )\n",
    "plt.title('Number of people with houses vs those without houses based on occupation', fontsize = 13)\n",
    "plt.xticks(rotation=45)\n",
    "plt.show()"
   ]
  },
  {
   "cell_type": "code",
   "execution_count": null,
   "id": "8ae5fb4b",
   "metadata": {},
   "outputs": [],
   "source": []
  },
  {
   "cell_type": "code",
   "execution_count": 97,
   "id": "06c30ea6",
   "metadata": {},
   "outputs": [
    {
     "name": "stderr",
     "output_type": "stream",
     "text": [
      "C:\\Users\\ilesanmi\\anaconda3\\lib\\site-packages\\seaborn\\_decorators.py:36: FutureWarning: Pass the following variables as keyword args: x, y. From version 0.12, the only valid positional argument will be `data`, and passing other arguments without an explicit keyword will result in an error or misinterpretation.\n",
      "  warnings.warn(\n"
     ]
    },
    {
     "data": {
      "image/png": "[encoded data removed]",
      "text/plain": [
       "<Figure size 360x360 with 1 Axes>"
      ]
     },
     "metadata": {
      "needs_background": "light"
     },
     "output_type": "display_data"
    }
   ],
   "source": [
    "x = 'job'\n",
    "y = 'age'\n",
    "sns.catplot(x,y, data = d_trial, kind = 'bar')\n",
    "plt.title(\"Graph showing Age against Jobs\")\n",
    "plt.xticks(rotation=45)\n",
    "plt.show()"
   ]
  },
  {
   "cell_type": "code",
   "execution_count": null,
   "id": "0509e7b6",
   "metadata": {},
   "outputs": [],
   "source": []
  },
  {
   "cell_type": "code",
   "execution_count": null,
   "id": "938c4f31",
   "metadata": {},
   "outputs": [],
   "source": []
  },
  {
   "cell_type": "markdown",
   "id": "a5f08b29",
   "metadata": {},
   "source": [
    "# ENCODING"
   ]
  },
  {
   "cell_type": "code",
   "execution_count": 49,
   "id": "eeda013f",
   "metadata": {},
   "outputs": [],
   "source": [
    "from sklearn.preprocessing import LabelEncoder\n",
    "enc = LabelEncoder()"
   ]
  },
  {
   "cell_type": "code",
   "execution_count": 50,
   "id": "408989e4",
   "metadata": {},
   "outputs": [],
   "source": [
    "y = 'y'\n",
    "features = d_trial.drop(y, axis = 1)\n",
    "target = d_trial[y].values\n",
    "features_encoded = features.apply(enc.fit_transform)\n",
    "target_encoded = enc.fit_transform(target)"
   ]
  },
  {
   "cell_type": "code",
   "execution_count": null,
   "id": "a1b99b2a",
   "metadata": {},
   "outputs": [],
   "source": []
  },
  {
   "cell_type": "code",
   "execution_count": 51,
   "id": "92673a30",
   "metadata": {},
   "outputs": [],
   "source": [
    "#features_encoded"
   ]
  },
  {
   "cell_type": "code",
   "execution_count": null,
   "id": "889754f8",
   "metadata": {},
   "outputs": [],
   "source": []
  },
  {
   "cell_type": "code",
   "execution_count": null,
   "id": "305e317a",
   "metadata": {},
   "outputs": [],
   "source": []
  },
  {
   "cell_type": "markdown",
   "id": "f30e591b",
   "metadata": {},
   "source": [
    "# SPLIT"
   ]
  },
  {
   "cell_type": "code",
   "execution_count": 52,
   "id": "fd567909",
   "metadata": {},
   "outputs": [],
   "source": [
    "x_tr, x_test, y_tr, y_test = train_test_split(features_encoded, target_encoded, random_state = 0)"
   ]
  },
  {
   "cell_type": "code",
   "execution_count": null,
   "id": "9f8279e7",
   "metadata": {},
   "outputs": [],
   "source": []
  },
  {
   "cell_type": "markdown",
   "id": "f4915d7b",
   "metadata": {},
   "source": [
    "# SCALING"
   ]
  },
  {
   "cell_type": "code",
   "execution_count": 53,
   "id": "9818b184",
   "metadata": {},
   "outputs": [],
   "source": [
    "from sklearn.preprocessing import StandardScaler\n",
    "scaler = StandardScaler()\n",
    "x_tr_scaled = scaler.fit_transform(x_tr)\n",
    "x_test_scaled = scaler.transform(x_test)"
   ]
  },
  {
   "cell_type": "code",
   "execution_count": null,
   "id": "39858c01",
   "metadata": {},
   "outputs": [],
   "source": []
  },
  {
   "cell_type": "code",
   "execution_count": 54,
   "id": "c3dbc6c1",
   "metadata": {},
   "outputs": [],
   "source": [
    "#so i have:\n",
    "\n",
    "#for unscaled: x_tr, x_test, y_tr, y_test\n",
    "#for scaled: x_tr_scaled, x_test_scaled, y_tr, y_test"
   ]
  },
  {
   "cell_type": "code",
   "execution_count": null,
   "id": "a67be970",
   "metadata": {},
   "outputs": [],
   "source": []
  },
  {
   "cell_type": "markdown",
   "id": "c1eee570",
   "metadata": {},
   "source": [
    "# MODEL"
   ]
  },
  {
   "cell_type": "code",
   "execution_count": 55,
   "id": "1d17692a",
   "metadata": {
    "scrolled": true
   },
   "outputs": [],
   "source": [
    "#x_tr"
   ]
  },
  {
   "cell_type": "code",
   "execution_count": null,
   "id": "85f68c74",
   "metadata": {},
   "outputs": [],
   "source": []
  },
  {
   "cell_type": "markdown",
   "id": "374bbe65",
   "metadata": {},
   "source": [
    "# NEEDED FUNCTIONS"
   ]
  },
  {
   "cell_type": "code",
   "execution_count": 56,
   "id": "1fc1e7f4",
   "metadata": {},
   "outputs": [],
   "source": [
    "#LOGISTIC REGRESSION\n",
    "from sklearn.linear_model import LogisticRegression"
   ]
  },
  {
   "cell_type": "code",
   "execution_count": 57,
   "id": "7b33b1df",
   "metadata": {},
   "outputs": [],
   "source": [
    "#default value for incase i want to input another\n",
    "\n",
    "def logistic_regression_model( x_tr, x_te, y_tr, y_te, C = 1.0):\n",
    "    log_reg = LogisticRegression(C = C)\n",
    "    log_reg.fit(x_tr, y_tr)\n",
    "    print('training accuracy: ', log_reg.score(x_tr, y_tr))\n",
    "    print('testing accuracy: ', log_reg.score(x_te, y_te))\n",
    "    \n",
    "    return log_reg"
   ]
  },
  {
   "cell_type": "code",
   "execution_count": 58,
   "id": "e2d55c5f",
   "metadata": {},
   "outputs": [],
   "source": [
    "#manipulating values of C in Logistic Regression\n",
    "def Log_reg_Manip_display(x_tr, x_test, y_tr, y_test):\n",
    "    C_values = [0.001, 0.01, 0.05, 0.1, 0.5, 0.8, 1]\n",
    "    train_acc = []\n",
    "    test_acc = []\n",
    "\n",
    "    for c in C_values:\n",
    "        log_reg1 = LogisticRegression(C = c)\n",
    "        log_reg1.fit(x_tr, y_tr)\n",
    "        train_acc.append(log_reg1.score(x_tr, y_tr))\n",
    "        test_acc.append(log_reg1.score(x_test, y_test))\n",
    "\n",
    "    \n",
    "    #train_acc, test_acc, C_values = Log_reg_Manip(x_tr, x_test, y_tr, y_test)\n",
    "    plt.plot(C_values, train_acc, label = \"Train Accuracy\")\n",
    "    plt.plot(C_values, test_acc, label = \"Test Accuracy\")\n",
    "    plt.xlabel('C values')\n",
    "    plt.ylabel('Accuracies')\n",
    "    plt.legend(loc = 'best')\n",
    "    plt.show()"
   ]
  },
  {
   "cell_type": "code",
   "execution_count": null,
   "id": "32087f09",
   "metadata": {},
   "outputs": [],
   "source": []
  },
  {
   "cell_type": "code",
   "execution_count": 59,
   "id": "3e32285f",
   "metadata": {},
   "outputs": [],
   "source": [
    "from sklearn.metrics import confusion_matrix, classification_report\n",
    "\n",
    "def cls_rprt_and_conf_matrix(x_tr, x_te, y_tr, y_te, C = 1):\n",
    "    #log_reg = logistic_regression_model( x_tr, x_te, y_tr, y_te, C = 1.0)\n",
    "    \n",
    "    #having issue... \n",
    "    \n",
    "    log_reg = LogisticRegression(C = C)\n",
    "    log_reg.fit(x_tr, y_tr)\n",
    "    #print('training accuracy: ', log_reg.score(x_tr, y_tr))\n",
    "    #print('testing accuracy: ', log_reg.score(x_te, y_te))\n",
    "    \n",
    "    y_pred = log_reg.predict(x_te)\n",
    "    #make predictions\n",
    "    conf =confusion_matrix(y_te, y_pred)\n",
    "    cls_report = classification_report(y_te, y_pred)\n",
    "    print('confusion matrix: \\n\\n', conf, '\\n\\n')\n",
    "    print('classification report: \\n', cls_report)"
   ]
  },
  {
   "cell_type": "code",
   "execution_count": null,
   "id": "f5597f7a",
   "metadata": {},
   "outputs": [],
   "source": []
  },
  {
   "cell_type": "code",
   "execution_count": 60,
   "id": "70174c6b",
   "metadata": {},
   "outputs": [],
   "source": [
    "#x_tr, x_test, y_tr, y_test\n",
    "\n",
    "#x_tr_scaled\n",
    "#x_test_scaled"
   ]
  },
  {
   "cell_type": "markdown",
   "id": "9675a4f8",
   "metadata": {},
   "source": [
    "## unscaled data report\n",
    "\n"
   ]
  },
  {
   "cell_type": "code",
   "execution_count": 61,
   "id": "580c4f05",
   "metadata": {
    "scrolled": true
   },
   "outputs": [
    {
     "name": "stdout",
     "output_type": "stream",
     "text": [
      "training accuracy:  0.9078696060341199\n",
      "testing accuracy:  0.9131785957074876\n"
     ]
    },
    {
     "name": "stderr",
     "output_type": "stream",
     "text": [
      "C:\\Users\\ilesanmi\\anaconda3\\lib\\site-packages\\sklearn\\linear_model\\_logistic.py:763: ConvergenceWarning: lbfgs failed to converge (status=1):\n",
      "STOP: TOTAL NO. of ITERATIONS REACHED LIMIT.\n",
      "\n",
      "Increase the number of iterations (max_iter) or scale the data as shown in:\n",
      "    https://scikit-learn.org/stable/modules/preprocessing.html\n",
      "Please also refer to the documentation for alternative solver options:\n",
      "    https://scikit-learn.org/stable/modules/linear_model.html#logistic-regression\n",
      "  n_iter_i = _check_optimize_result(\n"
     ]
    },
    {
     "data": {
      "text/plain": [
       "LogisticRegression()"
      ]
     },
     "execution_count": 61,
     "metadata": {},
     "output_type": "execute_result"
    }
   ],
   "source": [
    "logistic_regression_model(x_tr, x_test, y_tr, y_test)"
   ]
  },
  {
   "cell_type": "code",
   "execution_count": 62,
   "id": "2116031f",
   "metadata": {
    "scrolled": true
   },
   "outputs": [
    {
     "name": "stderr",
     "output_type": "stream",
     "text": [
      "C:\\Users\\ilesanmi\\anaconda3\\lib\\site-packages\\sklearn\\linear_model\\_logistic.py:763: ConvergenceWarning: lbfgs failed to converge (status=1):\n",
      "STOP: TOTAL NO. of ITERATIONS REACHED LIMIT.\n",
      "\n",
      "Increase the number of iterations (max_iter) or scale the data as shown in:\n",
      "    https://scikit-learn.org/stable/modules/preprocessing.html\n",
      "Please also refer to the documentation for alternative solver options:\n",
      "    https://scikit-learn.org/stable/modules/linear_model.html#logistic-regression\n",
      "  n_iter_i = _check_optimize_result(\n",
      "C:\\Users\\ilesanmi\\anaconda3\\lib\\site-packages\\sklearn\\linear_model\\_logistic.py:763: ConvergenceWarning: lbfgs failed to converge (status=1):\n",
      "STOP: TOTAL NO. of ITERATIONS REACHED LIMIT.\n",
      "\n",
      "Increase the number of iterations (max_iter) or scale the data as shown in:\n",
      "    https://scikit-learn.org/stable/modules/preprocessing.html\n",
      "Please also refer to the documentation for alternative solver options:\n",
      "    https://scikit-learn.org/stable/modules/linear_model.html#logistic-regression\n",
      "  n_iter_i = _check_optimize_result(\n",
      "C:\\Users\\ilesanmi\\anaconda3\\lib\\site-packages\\sklearn\\linear_model\\_logistic.py:763: ConvergenceWarning: lbfgs failed to converge (status=1):\n",
      "STOP: TOTAL NO. of ITERATIONS REACHED LIMIT.\n",
      "\n",
      "Increase the number of iterations (max_iter) or scale the data as shown in:\n",
      "    https://scikit-learn.org/stable/modules/preprocessing.html\n",
      "Please also refer to the documentation for alternative solver options:\n",
      "    https://scikit-learn.org/stable/modules/linear_model.html#logistic-regression\n",
      "  n_iter_i = _check_optimize_result(\n",
      "C:\\Users\\ilesanmi\\anaconda3\\lib\\site-packages\\sklearn\\linear_model\\_logistic.py:763: ConvergenceWarning: lbfgs failed to converge (status=1):\n",
      "STOP: TOTAL NO. of ITERATIONS REACHED LIMIT.\n",
      "\n",
      "Increase the number of iterations (max_iter) or scale the data as shown in:\n",
      "    https://scikit-learn.org/stable/modules/preprocessing.html\n",
      "Please also refer to the documentation for alternative solver options:\n",
      "    https://scikit-learn.org/stable/modules/linear_model.html#logistic-regression\n",
      "  n_iter_i = _check_optimize_result(\n",
      "C:\\Users\\ilesanmi\\anaconda3\\lib\\site-packages\\sklearn\\linear_model\\_logistic.py:763: ConvergenceWarning: lbfgs failed to converge (status=1):\n",
      "STOP: TOTAL NO. of ITERATIONS REACHED LIMIT.\n",
      "\n",
      "Increase the number of iterations (max_iter) or scale the data as shown in:\n",
      "    https://scikit-learn.org/stable/modules/preprocessing.html\n",
      "Please also refer to the documentation for alternative solver options:\n",
      "    https://scikit-learn.org/stable/modules/linear_model.html#logistic-regression\n",
      "  n_iter_i = _check_optimize_result(\n",
      "C:\\Users\\ilesanmi\\anaconda3\\lib\\site-packages\\sklearn\\linear_model\\_logistic.py:763: ConvergenceWarning: lbfgs failed to converge (status=1):\n",
      "STOP: TOTAL NO. of ITERATIONS REACHED LIMIT.\n",
      "\n",
      "Increase the number of iterations (max_iter) or scale the data as shown in:\n",
      "    https://scikit-learn.org/stable/modules/preprocessing.html\n",
      "Please also refer to the documentation for alternative solver options:\n",
      "    https://scikit-learn.org/stable/modules/linear_model.html#logistic-regression\n",
      "  n_iter_i = _check_optimize_result(\n",
      "C:\\Users\\ilesanmi\\anaconda3\\lib\\site-packages\\sklearn\\linear_model\\_logistic.py:763: ConvergenceWarning: lbfgs failed to converge (status=1):\n",
      "STOP: TOTAL NO. of ITERATIONS REACHED LIMIT.\n",
      "\n",
      "Increase the number of iterations (max_iter) or scale the data as shown in:\n",
      "    https://scikit-learn.org/stable/modules/preprocessing.html\n",
      "Please also refer to the documentation for alternative solver options:\n",
      "    https://scikit-learn.org/stable/modules/linear_model.html#logistic-regression\n",
      "  n_iter_i = _check_optimize_result(\n"
     ]
    },
    {
     "data": {
      "image/png": "[encoded data removed]",
      "text/plain": [
       "<Figure size 432x288 with 1 Axes>"
      ]
     },
     "metadata": {
      "needs_background": "light"
     },
     "output_type": "display_data"
    }
   ],
   "source": [
    "Log_reg_Manip_display(x_tr, x_test, y_tr, y_test)\n"
   ]
  },
  {
   "cell_type": "code",
   "execution_count": 63,
   "id": "0a9ef23f",
   "metadata": {
    "scrolled": false
   },
   "outputs": [
    {
     "name": "stdout",
     "output_type": "stream",
     "text": [
      "confusion matrix: \n",
      "\n",
      " [[8907  232]\n",
      " [ 662  496]] \n",
      "\n",
      "\n",
      "classification report: \n",
      "               precision    recall  f1-score   support\n",
      "\n",
      "           0       0.93      0.97      0.95      9139\n",
      "           1       0.68      0.43      0.53      1158\n",
      "\n",
      "    accuracy                           0.91     10297\n",
      "   macro avg       0.81      0.70      0.74     10297\n",
      "weighted avg       0.90      0.91      0.90     10297\n",
      "\n"
     ]
    },
    {
     "name": "stderr",
     "output_type": "stream",
     "text": [
      "C:\\Users\\ilesanmi\\anaconda3\\lib\\site-packages\\sklearn\\linear_model\\_logistic.py:763: ConvergenceWarning: lbfgs failed to converge (status=1):\n",
      "STOP: TOTAL NO. of ITERATIONS REACHED LIMIT.\n",
      "\n",
      "Increase the number of iterations (max_iter) or scale the data as shown in:\n",
      "    https://scikit-learn.org/stable/modules/preprocessing.html\n",
      "Please also refer to the documentation for alternative solver options:\n",
      "    https://scikit-learn.org/stable/modules/linear_model.html#logistic-regression\n",
      "  n_iter_i = _check_optimize_result(\n"
     ]
    }
   ],
   "source": [
    "cls_rprt_and_conf_matrix(x_tr, x_test, y_tr, y_test)"
   ]
  },
  {
   "cell_type": "code",
   "execution_count": null,
   "id": "cef86785",
   "metadata": {},
   "outputs": [],
   "source": []
  },
  {
   "cell_type": "code",
   "execution_count": null,
   "id": "1a2eb21f",
   "metadata": {},
   "outputs": [],
   "source": []
  },
  {
   "cell_type": "markdown",
   "id": "d7b01158",
   "metadata": {},
   "source": [
    "## scaled data report\n",
    "\n",
    "\n"
   ]
  },
  {
   "cell_type": "code",
   "execution_count": 64,
   "id": "08e0caaa",
   "metadata": {},
   "outputs": [
    {
     "name": "stdout",
     "output_type": "stream",
     "text": [
      "training accuracy:  0.909358712893723\n",
      "testing accuracy:  0.9145382150140817\n"
     ]
    },
    {
     "data": {
      "text/plain": [
       "LogisticRegression()"
      ]
     },
     "execution_count": 64,
     "metadata": {},
     "output_type": "execute_result"
    }
   ],
   "source": [
    "logistic_regression_model(x_tr_scaled, x_test_scaled, y_tr, y_test)"
   ]
  },
  {
   "cell_type": "code",
   "execution_count": 65,
   "id": "26d3fe4c",
   "metadata": {},
   "outputs": [
    {
     "data": {
      "image/png": "[encoded data removed]",
      "text/plain": [
       "<Figure size 432x288 with 1 Axes>"
      ]
     },
     "metadata": {
      "needs_background": "light"
     },
     "output_type": "display_data"
    }
   ],
   "source": [
    "Log_reg_Manip_display(x_tr_scaled, x_test_scaled, y_tr, y_test)\n"
   ]
  },
  {
   "cell_type": "code",
   "execution_count": null,
   "id": "6c19371f",
   "metadata": {},
   "outputs": [],
   "source": []
  },
  {
   "cell_type": "code",
   "execution_count": 66,
   "id": "c32978ee",
   "metadata": {},
   "outputs": [
    {
     "name": "stdout",
     "output_type": "stream",
     "text": [
      "confusion matrix: \n",
      "\n",
      " [[8897  242]\n",
      " [ 638  520]] \n",
      "\n",
      "\n",
      "classification report: \n",
      "               precision    recall  f1-score   support\n",
      "\n",
      "           0       0.93      0.97      0.95      9139\n",
      "           1       0.68      0.45      0.54      1158\n",
      "\n",
      "    accuracy                           0.91     10297\n",
      "   macro avg       0.81      0.71      0.75     10297\n",
      "weighted avg       0.90      0.91      0.91     10297\n",
      "\n"
     ]
    }
   ],
   "source": [
    "cls_rprt_and_conf_matrix(x_tr_scaled, x_test_scaled, y_tr, y_test)\n"
   ]
  },
  {
   "cell_type": "code",
   "execution_count": null,
   "id": "6c8acee6",
   "metadata": {},
   "outputs": [],
   "source": []
  },
  {
   "cell_type": "code",
   "execution_count": null,
   "id": "ae3ecbcf",
   "metadata": {},
   "outputs": [],
   "source": []
  },
  {
   "cell_type": "markdown",
   "id": "6f2b2239",
   "metadata": {},
   "source": [
    "# DATA IMBALANCE"
   ]
  },
  {
   "cell_type": "code",
   "execution_count": 67,
   "id": "8cfc14df",
   "metadata": {
    "scrolled": false
   },
   "outputs": [
    {
     "data": {
      "text/plain": [
       "no     36548\n",
       "yes     4640\n",
       "Name: y, dtype: int64"
      ]
     },
     "execution_count": 67,
     "metadata": {},
     "output_type": "execute_result"
    }
   ],
   "source": [
    "d_trial['y'].value_counts() #imbalance"
   ]
  },
  {
   "cell_type": "code",
   "execution_count": null,
   "id": "ecee1af5",
   "metadata": {},
   "outputs": [],
   "source": []
  },
  {
   "cell_type": "code",
   "execution_count": null,
   "id": "7cd04f59",
   "metadata": {},
   "outputs": [],
   "source": []
  },
  {
   "cell_type": "markdown",
   "id": "2e9a7d18",
   "metadata": {},
   "source": [
    "### methods to handle imbalance data:\n",
    "1. Under sampling the majority class\n",
    "2. Over sampling the minority class ...\n",
    "3. Over sampliing the minority using SMOTE\n",
    "4. Ensemble method\n",
    "5. Focal loss"
   ]
  },
  {
   "cell_type": "code",
   "execution_count": null,
   "id": "42d926d6",
   "metadata": {},
   "outputs": [],
   "source": [
    "\n"
   ]
  },
  {
   "cell_type": "markdown",
   "id": "4e837b3a",
   "metadata": {},
   "source": [
    "## 1. Under sampling the majority class"
   ]
  },
  {
   "cell_type": "code",
   "execution_count": 68,
   "id": "c295f1fa",
   "metadata": {},
   "outputs": [],
   "source": [
    "#undersampling\n",
    "\n",
    "imbal = d_trial"
   ]
  },
  {
   "cell_type": "code",
   "execution_count": 69,
   "id": "491ef7a5",
   "metadata": {},
   "outputs": [],
   "source": [
    "\n",
    "from sklearn.preprocessing import LabelEncoder\n",
    "enc = LabelEncoder()\n",
    "\n",
    "imbal_enc = imbal.apply(enc.fit_transform)"
   ]
  },
  {
   "cell_type": "code",
   "execution_count": 70,
   "id": "31f7cb4a",
   "metadata": {},
   "outputs": [],
   "source": [
    "#imbal_enc.y\n",
    "\n"
   ]
  },
  {
   "cell_type": "code",
   "execution_count": 71,
   "id": "45ca078c",
   "metadata": {},
   "outputs": [],
   "source": [
    "from sklearn.model_selection import train_test_split\n",
    "from sklearn.preprocessing import MinMaxScaler\n",
    "from sklearn.linear_model import LogisticRegression\n"
   ]
  },
  {
   "cell_type": "code",
   "execution_count": 72,
   "id": "97f3453f",
   "metadata": {},
   "outputs": [],
   "source": [
    "#function receives encoded dataframe and then the needed label\n",
    "\n",
    "def udersampling_d_majority_class(encoded_df, label):\n",
    "    y = label\n",
    "    zeros = encoded_df[encoded_df[y] == 0] #the oversampled\n",
    "    ones = encoded_df[encoded_df[y] == 1] #the undersampled\n",
    "    \n",
    "    zeros_count, ones_count = encoded_df[y].value_counts()\n",
    "    \n",
    "    #undersampling the zeros to same values as 1's\n",
    "    zero_datas = zeros.sample(ones_count, random_state = 0) #brought zeros to same values as 1's\n",
    "    #OBSERVATION: AT DIFFERENT VALUE OF THE RANDOM_STATE, I GET DIFFERENT..\n",
    "    #...RESULTS\n",
    "    \n",
    "    \n",
    "    #so, for underscaling, i have\n",
    "    print('now equally scaled as: ', zero_datas.shape , ones.shape)\n",
    "    print('\\n')\n",
    "    #concatenating -- the new scaled dataframe:\n",
    "    dataframe_new = pd.concat([zero_datas, ones], axis = 0)\n",
    "    \n",
    "    print('shape of new equally scaled new dataframe: \\n', dataframe_new.shape)\n",
    "    print('\\n')\n",
    "    \n",
    "    #dataframe_new.head()\n",
    "    \n",
    "    y = label\n",
    "    features = dataframe_new.drop(y, axis = 1)\n",
    "    target = dataframe_new[y]\n",
    "    \n",
    "    #splitting\n",
    "    x_tr, x_test, y_tr, y_test = train_test_split(features, target, random_state=0)\n",
    "    \n",
    "    #scaling\n",
    "    scaler = MinMaxScaler()\n",
    "    x_tr_scaled = scaler.fit_transform(x_tr)\n",
    "    x_test_scaled = scaler.transform(x_test)\n",
    "    \n",
    "    logistic_regression_model(x_tr_scaled, x_test_scaled, y_tr, y_test) #i can input C value too\n",
    "    Log_reg_Manip_display(x_tr_scaled, x_test_scaled, y_tr, y_test)\n",
    "    cls_rprt_and_conf_matrix(x_tr_scaled, x_test_scaled, y_tr, y_test)\n",
    "\n",
    "    "
   ]
  },
  {
   "cell_type": "code",
   "execution_count": null,
   "id": "ef4dc596",
   "metadata": {},
   "outputs": [],
   "source": []
  },
  {
   "cell_type": "code",
   "execution_count": 73,
   "id": "deac6ba4",
   "metadata": {
    "scrolled": false
   },
   "outputs": [
    {
     "name": "stdout",
     "output_type": "stream",
     "text": [
      "now equally scaled as:  (4640, 21) (4640, 21)\n",
      "\n",
      "\n",
      "shape of new equally scaled new dataframe: \n",
      " (9280, 21)\n",
      "\n",
      "\n",
      "training accuracy:  0.8584770114942529\n",
      "testing accuracy:  0.8637931034482759\n"
     ]
    },
    {
     "data": {
      "image/png": "[encoded data removed]",
      "text/plain": [
       "<Figure size 432x288 with 1 Axes>"
      ]
     },
     "metadata": {
      "needs_background": "light"
     },
     "output_type": "display_data"
    },
    {
     "name": "stdout",
     "output_type": "stream",
     "text": [
      "confusion matrix: \n",
      "\n",
      " [[1013  168]\n",
      " [ 148  991]] \n",
      "\n",
      "\n",
      "classification report: \n",
      "               precision    recall  f1-score   support\n",
      "\n",
      "           0       0.87      0.86      0.87      1181\n",
      "           1       0.86      0.87      0.86      1139\n",
      "\n",
      "    accuracy                           0.86      2320\n",
      "   macro avg       0.86      0.86      0.86      2320\n",
      "weighted avg       0.86      0.86      0.86      2320\n",
      "\n"
     ]
    }
   ],
   "source": [
    "udersampling_d_majority_class(imbal_enc, y)"
   ]
  },
  {
   "cell_type": "code",
   "execution_count": null,
   "id": "30032629",
   "metadata": {},
   "outputs": [],
   "source": []
  },
  {
   "cell_type": "markdown",
   "id": "d94f5806",
   "metadata": {},
   "source": [
    "## 2. Over sampling the minority class ...\n"
   ]
  },
  {
   "cell_type": "code",
   "execution_count": 74,
   "id": "2f374132",
   "metadata": {},
   "outputs": [],
   "source": [
    "def oversampling_d_minority_class(encoded_df, label):\n",
    "    y = label\n",
    "    zeros = encoded_df[encoded_df[y] == 0] #the oversampled\n",
    "    ones = encoded_df[encoded_df[y] == 1] #the undersampled\n",
    "    \n",
    "    zeros_count, ones_count = encoded_df[y].value_counts()\n",
    "    \n",
    "    #undersampling the zeros to same values as 1's\n",
    "    zeros.sample(ones_count).shape #brought zeros to same values as 1's\n",
    "\n",
    "    ones_oversampled = ones.sample(zeros_count, replace = True, random_state = 0) \n",
    "    \n",
    "    #so, for oversampling, i have\n",
    "    print('now equally scaled as: ', zeros.shape , ones_oversampled.shape)\n",
    "    print('\\n')\n",
    "    #concatenating -- the new scaled dataframe:\n",
    "    dataframe_new = pd.concat([zeros, ones_oversampled], axis = 0)\n",
    "    \n",
    "    print('shape of new equally scaled new dataframe: \\n', dataframe_new.shape)\n",
    "    print('\\n')\n",
    "    y = label\n",
    "    features = dataframe_new.drop(y, axis = 1)\n",
    "    target = dataframe_new[y]\n",
    "    \n",
    "    #splitting\n",
    "    x_tr, x_test, y_tr, y_test = train_test_split(features, target, random_state=0)\n",
    "    \n",
    "    #scaling\n",
    "    scaler = MinMaxScaler()\n",
    "    x_tr_scaled = scaler.fit_transform(x_tr)\n",
    "    x_test_scaled = scaler.transform(x_test)\n",
    "    \n",
    "    logistic_regression_model(x_tr_scaled, x_test_scaled, y_tr, y_test)\n",
    "    Log_reg_Manip_display(x_tr_scaled, x_test_scaled, y_tr, y_test)\n",
    "    cls_rprt_and_conf_matrix(x_tr_scaled, x_test_scaled, y_tr, y_test)"
   ]
  },
  {
   "cell_type": "code",
   "execution_count": null,
   "id": "3fe3f8d3",
   "metadata": {},
   "outputs": [],
   "source": []
  },
  {
   "cell_type": "code",
   "execution_count": 75,
   "id": "a31fe673",
   "metadata": {
    "scrolled": false
   },
   "outputs": [
    {
     "name": "stdout",
     "output_type": "stream",
     "text": [
      "now equally scaled as:  (36548, 21) (36548, 21)\n",
      "\n",
      "\n",
      "shape of new equally scaled new dataframe: \n",
      " (73096, 21)\n",
      "\n",
      "\n",
      "training accuracy:  0.8557513407026376\n",
      "testing accuracy:  0.8570099595053081\n"
     ]
    },
    {
     "data": {
      "image/png": "[encoded data removed]",
      "text/plain": [
       "<Figure size 432x288 with 1 Axes>"
      ]
     },
     "metadata": {
      "needs_background": "light"
     },
     "output_type": "display_data"
    },
    {
     "name": "stdout",
     "output_type": "stream",
     "text": [
      "confusion matrix: \n",
      "\n",
      " [[7626 1372]\n",
      " [1241 8035]] \n",
      "\n",
      "\n",
      "classification report: \n",
      "               precision    recall  f1-score   support\n",
      "\n",
      "           0       0.86      0.85      0.85      8998\n",
      "           1       0.85      0.87      0.86      9276\n",
      "\n",
      "    accuracy                           0.86     18274\n",
      "   macro avg       0.86      0.86      0.86     18274\n",
      "weighted avg       0.86      0.86      0.86     18274\n",
      "\n"
     ]
    }
   ],
   "source": [
    "oversampling_d_minority_class(imbal_enc, y)"
   ]
  },
  {
   "cell_type": "code",
   "execution_count": null,
   "id": "540bb339",
   "metadata": {},
   "outputs": [],
   "source": []
  },
  {
   "cell_type": "code",
   "execution_count": null,
   "id": "44aa96be",
   "metadata": {},
   "outputs": [],
   "source": []
  },
  {
   "cell_type": "markdown",
   "id": "ad37cd6a",
   "metadata": {},
   "source": [
    "# 3. Over sampliing the minority using SMOTE\n"
   ]
  },
  {
   "cell_type": "code",
   "execution_count": 76,
   "id": "d0a8ea0a",
   "metadata": {},
   "outputs": [],
   "source": [
    "from imblearn.over_sampling import SMOTE"
   ]
  },
  {
   "cell_type": "code",
   "execution_count": 81,
   "id": "535c00e3",
   "metadata": {},
   "outputs": [],
   "source": [
    "def using_smote(encoded_df, label, c = 1):\n",
    "    y = label\n",
    "    features_enc = encoded_df.drop(y, axis = 'columns')\n",
    "    target = imbal_enc[y]\n",
    "    \n",
    "    smote =SMOTE(sampling_strategy='minority', random_state=0)\n",
    "    x_sn, y_sn = smote.fit_resample(features_enc, target)\n",
    "   \n",
    "    #splitting..\n",
    "    x_tr, x_te, y_tr, y_te = train_test_split(x_sn, y_sn, random_state = 0)\n",
    "    \n",
    "    #scaling\n",
    "    scaler = MinMaxScaler()\n",
    "    x_tr_scaled = scaler.fit_transform(x_tr)\n",
    "    x_test_scaled = scaler.transform(x_te)\n",
    "    \n",
    "    logistic_regression_model(x_tr_scaled, x_test_scaled, y_tr, y_te, C = c)\n",
    "    Log_reg_Manip_display(x_tr_scaled, x_test_scaled, y_tr, y_te)\n",
    "    cls_rprt_and_conf_matrix(x_tr_scaled, x_test_scaled, y_tr, y_te)"
   ]
  },
  {
   "cell_type": "code",
   "execution_count": null,
   "id": "64830b4c",
   "metadata": {},
   "outputs": [],
   "source": []
  },
  {
   "cell_type": "code",
   "execution_count": 78,
   "id": "1f921727",
   "metadata": {},
   "outputs": [
    {
     "name": "stdout",
     "output_type": "stream",
     "text": [
      "training accuracy:  0.8797563022144395\n",
      "testing accuracy:  0.8782423114807923\n"
     ]
    },
    {
     "data": {
      "image/png": "[encoded data removed]",
      "text/plain": [
       "<Figure size 432x288 with 1 Axes>"
      ]
     },
     "metadata": {
      "needs_background": "light"
     },
     "output_type": "display_data"
    },
    {
     "name": "stdout",
     "output_type": "stream",
     "text": [
      "confusion matrix: \n",
      "\n",
      " [[7910 1107]\n",
      " [1118 8139]] \n",
      "\n",
      "\n",
      "classification report: \n",
      "               precision    recall  f1-score   support\n",
      "\n",
      "           0       0.88      0.88      0.88      9017\n",
      "           1       0.88      0.88      0.88      9257\n",
      "\n",
      "    accuracy                           0.88     18274\n",
      "   macro avg       0.88      0.88      0.88     18274\n",
      "weighted avg       0.88      0.88      0.88     18274\n",
      "\n"
     ]
    }
   ],
   "source": [
    "using_smote(imbal_enc, y)"
   ]
  },
  {
   "cell_type": "code",
   "execution_count": null,
   "id": "cb78273c",
   "metadata": {},
   "outputs": [],
   "source": []
  },
  {
   "cell_type": "code",
   "execution_count": 79,
   "id": "db712425",
   "metadata": {},
   "outputs": [],
   "source": [
    "#running smote again with a change in C value"
   ]
  },
  {
   "cell_type": "code",
   "execution_count": 88,
   "id": "f6eadb2a",
   "metadata": {},
   "outputs": [
    {
     "name": "stdout",
     "output_type": "stream",
     "text": [
      "training accuracy:  0.8784429608551312\n",
      "testing accuracy:  0.8784612017073438\n"
     ]
    },
    {
     "data": {
      "image/png": "[encoded data removed]",
      "text/plain": [
       "<Figure size 432x288 with 1 Axes>"
      ]
     },
     "metadata": {
      "needs_background": "light"
     },
     "output_type": "display_data"
    },
    {
     "name": "stdout",
     "output_type": "stream",
     "text": [
      "confusion matrix: \n",
      "\n",
      " [[7910 1107]\n",
      " [1118 8139]] \n",
      "\n",
      "\n",
      "classification report: \n",
      "               precision    recall  f1-score   support\n",
      "\n",
      "           0       0.88      0.88      0.88      9017\n",
      "           1       0.88      0.88      0.88      9257\n",
      "\n",
      "    accuracy                           0.88     18274\n",
      "   macro avg       0.88      0.88      0.88     18274\n",
      "weighted avg       0.88      0.88      0.88     18274\n",
      "\n"
     ]
    }
   ],
   "source": [
    "using_smote(imbal_enc,y, c = 0.15)"
   ]
  },
  {
   "cell_type": "code",
   "execution_count": null,
   "id": "e590dfc9",
   "metadata": {},
   "outputs": [],
   "source": []
  },
  {
   "cell_type": "code",
   "execution_count": null,
   "id": "52b24c80",
   "metadata": {},
   "outputs": [],
   "source": []
  }
 ],
 "metadata": {
  "kernelspec": {
   "display_name": "Python 3",
   "language": "python",
   "name": "python3"
  },
  "language_info": {
   "codemirror_mode": {
    "name": "ipython",
    "version": 3
   },
   "file_extension": ".py",
   "mimetype": "text/x-python",
   "name": "python",
   "nbconvert_exporter": "python",
   "pygments_lexer": "ipython3",
   "version": "3.8.8"
  }
 },
 "nbformat": 4,
 "nbformat_minor": 5
}
